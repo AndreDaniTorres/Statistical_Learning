{
 "cells": [
  {
   "cell_type": "markdown",
   "metadata": {},
   "source": [
    "# Searching for exotic particles in high-energy physics with deep learning"
   ]
  },
  {
   "cell_type": "code",
   "execution_count": 1,
   "metadata": {},
   "outputs": [],
   "source": [
    "import pandas as pd\n",
    "import numpy as np\n",
    "import matplotlib.pyplot as plt\n",
    "import seaborn as sns\n",
    "import random as random"
   ]
  },
  {
   "cell_type": "code",
   "execution_count": 2,
   "metadata": {
    "id": "W5kUsJHr_vxY"
   },
   "outputs": [],
   "source": [
    "from sklearn.model_selection import train_test_split\n",
    "from sklearn.model_selection import GridSearchCV\n",
    "from sklearn.preprocessing import StandardScaler\n",
    "from sklearn.preprocessing import MinMaxScaler\n",
    "from sklearn.metrics import mean_absolute_error, r2_score, mean_squared_error\n",
    "from sklearn.pipeline import Pipeline\n"
   ]
  },
  {
   "cell_type": "markdown",
   "metadata": {
    "id": "sPUFIUnCIdRF"
   },
   "source": [
    "# Clasificación"
   ]
  },
  {
   "cell_type": "markdown",
   "metadata": {
    "id": "NuUYhg64QvpV"
   },
   "source": [
    "[Searching for exotic particles in high-energy physics with deep learning](https://www.nature.com/articles/ncomms5308.pdf)\n",
    "\n",
    "Las colisiones de alta energía en aceleradores de partículas son fuente para la búsqueda y descubrimiento de nuevas partículas exóticas. Sin embargo, encontrar estar partículas exóticas requiere resolver el difícil problema de discriminar la señal en contra del ruido. \n",
    "\n",
    "Este problema en específico busca distinguir procesos en colisionadores de hadrónes en los cuales se producen partículas supersiméticas (SUSY) en contra de procesos en los cuales estas partículas no son producidas.\n",
    "\n",
    "Este dataset contiene en la primera columna la clase objetivo (1 para procesos SUSY y 0 en caso contrario). Las demás columnas son caraterísticas usadas opara la tarea predictiva, divididas en dos tipos:\n",
    "- Las primeras ocho columnas corresponden a propiedades cinemáticas de las colisiones medidas por los detectores en el acelerador. Estas son llamadas características de bajo nivel.\n",
    "- Las demás diez columnas corresponden a características de alto nivel que son derivadas por los científicos para ayudar a la discriminación de las dos clases.\n",
    "\n"
   ]
  },
  {
   "cell_type": "code",
   "execution_count": null,
   "metadata": {
    "id": "BakAM-8Y_v2q"
   },
   "outputs": [],
   "source": [
    "from sklearn.linear_model import LogisticRegression\n",
    "from sklearn.svm import LinearSVC\n",
    "from sklearn.tree import DecisionTreeClassifier\n",
    "from sklearn.linear_model import SGDClassifier\n",
    "from sklearn.metrics import classification_report\n",
    "from sklearn.metrics import confusion_matrix\n",
    "from sklearn.metrics import roc_auc_score\n",
    "from sklearn.metrics import roc_curve"
   ]
  },
  {
   "cell_type": "code",
   "execution_count": null,
   "metadata": {
    "colab": {
     "base_uri": "https://localhost:8080/"
    },
    "id": "b0IxQe40GYgT",
    "outputId": "a479767b-ca9d-4dfa-b677-4835d1d1ad00"
   },
   "outputs": [
    {
     "name": "stdout",
     "output_type": "stream",
     "text": [
      "--2021-10-11 16:14:54--  https://archive.ics.uci.edu/ml/machine-learning-databases/00279/SUSY.csv.gz\n",
      "Resolving archive.ics.uci.edu (archive.ics.uci.edu)... 128.195.10.252\n",
      "Connecting to archive.ics.uci.edu (archive.ics.uci.edu)|128.195.10.252|:443... connected.\n",
      "HTTP request sent, awaiting response... 200 OK\n",
      "Length: 922377711 (880M) [application/x-httpd-php]\n",
      "Saving to: ‘susy_dataset.csv.gz’\n",
      "\n",
      "susy_dataset.csv.gz 100%[===================>] 879.65M  19.5MB/s    in 46s     \n",
      "\n",
      "2021-10-11 16:15:40 (19.2 MB/s) - ‘susy_dataset.csv.gz’ saved [922377711/922377711]\n",
      "\n"
     ]
    }
   ],
   "source": [
    "!wget -O susy_dataset.csv.gz https://archive.ics.uci.edu/ml/machine-learning-databases/00279/SUSY.csv.gz"
   ]
  },
  {
   "cell_type": "code",
   "execution_count": null,
   "metadata": {
    "id": "ovVAsTS60jul"
   },
   "outputs": [],
   "source": [
    "column_names = [\"class\", \"lepton 1 pT\", \"lepton 1 eta\", \"lepton 1 phi\", \"lepton 2 pT\", \"lepton 2 eta\", \"lepton 2 phi\", \"missing energy magnitude\", \"missing energy phi\", \"MET_rel\", \"axial MET\", \"M_R\", \"M_TR_2\", \"R\", \"MT2\", \"S_R\", \"M_Delta_R\", \"dPhi_r_b\", \"cos(theta_r1)\"]\n",
    "susy_data = pd.read_csv(\"susy_dataset.csv.gz\", compression=\"gzip\", names=column_names)"
   ]
  },
  {
   "cell_type": "code",
   "execution_count": null,
   "metadata": {
    "colab": {
     "base_uri": "https://localhost:8080/",
     "height": 258
    },
    "id": "C6xP6GIMIzUZ",
    "outputId": "6da7d528-2c88-41c4-8bfa-f6a63988bd28"
   },
   "outputs": [
    {
     "data": {
      "text/html": [
       "<div>\n",
       "<style scoped>\n",
       "    .dataframe tbody tr th:only-of-type {\n",
       "        vertical-align: middle;\n",
       "    }\n",
       "\n",
       "    .dataframe tbody tr th {\n",
       "        vertical-align: top;\n",
       "    }\n",
       "\n",
       "    .dataframe thead th {\n",
       "        text-align: right;\n",
       "    }\n",
       "</style>\n",
       "<table border=\"1\" class=\"dataframe\">\n",
       "  <thead>\n",
       "    <tr style=\"text-align: right;\">\n",
       "      <th></th>\n",
       "      <th>class</th>\n",
       "      <th>lepton 1 pT</th>\n",
       "      <th>lepton 1 eta</th>\n",
       "      <th>lepton 1 phi</th>\n",
       "      <th>lepton 2 pT</th>\n",
       "      <th>lepton 2 eta</th>\n",
       "      <th>lepton 2 phi</th>\n",
       "      <th>missing energy magnitude</th>\n",
       "      <th>missing energy phi</th>\n",
       "      <th>MET_rel</th>\n",
       "      <th>axial MET</th>\n",
       "      <th>M_R</th>\n",
       "      <th>M_TR_2</th>\n",
       "      <th>R</th>\n",
       "      <th>MT2</th>\n",
       "      <th>S_R</th>\n",
       "      <th>M_Delta_R</th>\n",
       "      <th>dPhi_r_b</th>\n",
       "      <th>cos(theta_r1)</th>\n",
       "    </tr>\n",
       "  </thead>\n",
       "  <tbody>\n",
       "    <tr>\n",
       "      <th>0</th>\n",
       "      <td>0.0</td>\n",
       "      <td>0.972861</td>\n",
       "      <td>0.653855</td>\n",
       "      <td>1.176225</td>\n",
       "      <td>1.157156</td>\n",
       "      <td>-1.739873</td>\n",
       "      <td>-0.874309</td>\n",
       "      <td>0.567765</td>\n",
       "      <td>-0.175000</td>\n",
       "      <td>0.810061</td>\n",
       "      <td>-0.252552</td>\n",
       "      <td>1.921887</td>\n",
       "      <td>0.889637</td>\n",
       "      <td>0.410772</td>\n",
       "      <td>1.145621</td>\n",
       "      <td>1.932632</td>\n",
       "      <td>0.994464</td>\n",
       "      <td>1.367815</td>\n",
       "      <td>0.040714</td>\n",
       "    </tr>\n",
       "    <tr>\n",
       "      <th>1</th>\n",
       "      <td>1.0</td>\n",
       "      <td>1.667973</td>\n",
       "      <td>0.064191</td>\n",
       "      <td>-1.225171</td>\n",
       "      <td>0.506102</td>\n",
       "      <td>-0.338939</td>\n",
       "      <td>1.672543</td>\n",
       "      <td>3.475464</td>\n",
       "      <td>-1.219136</td>\n",
       "      <td>0.012955</td>\n",
       "      <td>3.775174</td>\n",
       "      <td>1.045977</td>\n",
       "      <td>0.568051</td>\n",
       "      <td>0.481928</td>\n",
       "      <td>0.000000</td>\n",
       "      <td>0.448410</td>\n",
       "      <td>0.205356</td>\n",
       "      <td>1.321893</td>\n",
       "      <td>0.377584</td>\n",
       "    </tr>\n",
       "    <tr>\n",
       "      <th>2</th>\n",
       "      <td>1.0</td>\n",
       "      <td>0.444840</td>\n",
       "      <td>-0.134298</td>\n",
       "      <td>-0.709972</td>\n",
       "      <td>0.451719</td>\n",
       "      <td>-1.613871</td>\n",
       "      <td>-0.768661</td>\n",
       "      <td>1.219918</td>\n",
       "      <td>0.504026</td>\n",
       "      <td>1.831248</td>\n",
       "      <td>-0.431385</td>\n",
       "      <td>0.526283</td>\n",
       "      <td>0.941514</td>\n",
       "      <td>1.587535</td>\n",
       "      <td>2.024308</td>\n",
       "      <td>0.603498</td>\n",
       "      <td>1.562374</td>\n",
       "      <td>1.135454</td>\n",
       "      <td>0.180910</td>\n",
       "    </tr>\n",
       "    <tr>\n",
       "      <th>3</th>\n",
       "      <td>1.0</td>\n",
       "      <td>0.381256</td>\n",
       "      <td>-0.976145</td>\n",
       "      <td>0.693152</td>\n",
       "      <td>0.448959</td>\n",
       "      <td>0.891753</td>\n",
       "      <td>-0.677328</td>\n",
       "      <td>2.033060</td>\n",
       "      <td>1.533041</td>\n",
       "      <td>3.046260</td>\n",
       "      <td>-1.005285</td>\n",
       "      <td>0.569386</td>\n",
       "      <td>1.015211</td>\n",
       "      <td>1.582217</td>\n",
       "      <td>1.551914</td>\n",
       "      <td>0.761215</td>\n",
       "      <td>1.715464</td>\n",
       "      <td>1.492257</td>\n",
       "      <td>0.090719</td>\n",
       "    </tr>\n",
       "    <tr>\n",
       "      <th>4</th>\n",
       "      <td>1.0</td>\n",
       "      <td>1.309996</td>\n",
       "      <td>-0.690089</td>\n",
       "      <td>-0.676259</td>\n",
       "      <td>1.589283</td>\n",
       "      <td>-0.693326</td>\n",
       "      <td>0.622907</td>\n",
       "      <td>1.087562</td>\n",
       "      <td>-0.381742</td>\n",
       "      <td>0.589204</td>\n",
       "      <td>1.365479</td>\n",
       "      <td>1.179295</td>\n",
       "      <td>0.968218</td>\n",
       "      <td>0.728563</td>\n",
       "      <td>0.000000</td>\n",
       "      <td>1.083158</td>\n",
       "      <td>0.043429</td>\n",
       "      <td>1.154854</td>\n",
       "      <td>0.094859</td>\n",
       "    </tr>\n",
       "  </tbody>\n",
       "</table>\n",
       "</div>"
      ],
      "text/plain": [
       "   class  lepton 1 pT  lepton 1 eta  ...  M_Delta_R  dPhi_r_b  cos(theta_r1)\n",
       "0    0.0     0.972861      0.653855  ...   0.994464  1.367815       0.040714\n",
       "1    1.0     1.667973      0.064191  ...   0.205356  1.321893       0.377584\n",
       "2    1.0     0.444840     -0.134298  ...   1.562374  1.135454       0.180910\n",
       "3    1.0     0.381256     -0.976145  ...   1.715464  1.492257       0.090719\n",
       "4    1.0     1.309996     -0.690089  ...   0.043429  1.154854       0.094859\n",
       "\n",
       "[5 rows x 19 columns]"
      ]
     },
     "execution_count": 6,
     "metadata": {},
     "output_type": "execute_result"
    }
   ],
   "source": [
    "susy_data.head()"
   ]
  },
  {
   "cell_type": "code",
   "execution_count": null,
   "metadata": {
    "colab": {
     "base_uri": "https://localhost:8080/"
    },
    "id": "9NeyQB7iz-qC",
    "outputId": "8c7a6f44-0dd0-4609-8cac-4c1a490ec556"
   },
   "outputs": [
    {
     "data": {
      "text/plain": [
       "(5000000, 19)"
      ]
     },
     "execution_count": 7,
     "metadata": {},
     "output_type": "execute_result"
    }
   ],
   "source": [
    "# Dataset dimensions \n",
    "susy_data.shape"
   ]
  },
  {
   "cell_type": "code",
   "execution_count": null,
   "metadata": {
    "colab": {
     "base_uri": "https://localhost:8080/"
    },
    "id": "R9CebR6jkmK4",
    "outputId": "9ea55b4b-17fc-4303-828a-6de70192f211"
   },
   "outputs": [
    {
     "data": {
      "text/plain": [
       "0.0    2712173\n",
       "1.0    2287827\n",
       "Name: class, dtype: int64"
      ]
     },
     "execution_count": 8,
     "metadata": {},
     "output_type": "execute_result"
    }
   ],
   "source": [
    "# Number of instances in each class\n",
    "susy_data['class'].value_counts()"
   ]
  },
  {
   "cell_type": "code",
   "execution_count": null,
   "metadata": {
    "colab": {
     "base_uri": "https://localhost:8080/",
     "height": 258
    },
    "id": "h_SrXA5wFHfg",
    "outputId": "5f524119-b360-417d-e66c-e7f33846db91"
   },
   "outputs": [
    {
     "data": {
      "text/html": [
       "<div>\n",
       "<style scoped>\n",
       "    .dataframe tbody tr th:only-of-type {\n",
       "        vertical-align: middle;\n",
       "    }\n",
       "\n",
       "    .dataframe tbody tr th {\n",
       "        vertical-align: top;\n",
       "    }\n",
       "\n",
       "    .dataframe thead th {\n",
       "        text-align: right;\n",
       "    }\n",
       "</style>\n",
       "<table border=\"1\" class=\"dataframe\">\n",
       "  <thead>\n",
       "    <tr style=\"text-align: right;\">\n",
       "      <th></th>\n",
       "      <th>lepton 1 pT</th>\n",
       "      <th>lepton 1 eta</th>\n",
       "      <th>lepton 1 phi</th>\n",
       "      <th>lepton 2 pT</th>\n",
       "      <th>lepton 2 eta</th>\n",
       "      <th>lepton 2 phi</th>\n",
       "      <th>missing energy magnitude</th>\n",
       "      <th>missing energy phi</th>\n",
       "      <th>MET_rel</th>\n",
       "      <th>axial MET</th>\n",
       "      <th>M_R</th>\n",
       "      <th>M_TR_2</th>\n",
       "      <th>R</th>\n",
       "      <th>MT2</th>\n",
       "      <th>S_R</th>\n",
       "      <th>M_Delta_R</th>\n",
       "      <th>dPhi_r_b</th>\n",
       "      <th>cos(theta_r1)</th>\n",
       "    </tr>\n",
       "  </thead>\n",
       "  <tbody>\n",
       "    <tr>\n",
       "      <th>0</th>\n",
       "      <td>0.972861</td>\n",
       "      <td>0.653855</td>\n",
       "      <td>1.176225</td>\n",
       "      <td>1.157156</td>\n",
       "      <td>-1.739873</td>\n",
       "      <td>-0.874309</td>\n",
       "      <td>0.567765</td>\n",
       "      <td>-0.175000</td>\n",
       "      <td>0.810061</td>\n",
       "      <td>-0.252552</td>\n",
       "      <td>1.921887</td>\n",
       "      <td>0.889637</td>\n",
       "      <td>0.410772</td>\n",
       "      <td>1.145621</td>\n",
       "      <td>1.932632</td>\n",
       "      <td>0.994464</td>\n",
       "      <td>1.367815</td>\n",
       "      <td>0.040714</td>\n",
       "    </tr>\n",
       "    <tr>\n",
       "      <th>1</th>\n",
       "      <td>1.667973</td>\n",
       "      <td>0.064191</td>\n",
       "      <td>-1.225171</td>\n",
       "      <td>0.506102</td>\n",
       "      <td>-0.338939</td>\n",
       "      <td>1.672543</td>\n",
       "      <td>3.475464</td>\n",
       "      <td>-1.219136</td>\n",
       "      <td>0.012955</td>\n",
       "      <td>3.775174</td>\n",
       "      <td>1.045977</td>\n",
       "      <td>0.568051</td>\n",
       "      <td>0.481928</td>\n",
       "      <td>0.000000</td>\n",
       "      <td>0.448410</td>\n",
       "      <td>0.205356</td>\n",
       "      <td>1.321893</td>\n",
       "      <td>0.377584</td>\n",
       "    </tr>\n",
       "    <tr>\n",
       "      <th>2</th>\n",
       "      <td>0.444840</td>\n",
       "      <td>-0.134298</td>\n",
       "      <td>-0.709972</td>\n",
       "      <td>0.451719</td>\n",
       "      <td>-1.613871</td>\n",
       "      <td>-0.768661</td>\n",
       "      <td>1.219918</td>\n",
       "      <td>0.504026</td>\n",
       "      <td>1.831248</td>\n",
       "      <td>-0.431385</td>\n",
       "      <td>0.526283</td>\n",
       "      <td>0.941514</td>\n",
       "      <td>1.587535</td>\n",
       "      <td>2.024308</td>\n",
       "      <td>0.603498</td>\n",
       "      <td>1.562374</td>\n",
       "      <td>1.135454</td>\n",
       "      <td>0.180910</td>\n",
       "    </tr>\n",
       "    <tr>\n",
       "      <th>3</th>\n",
       "      <td>0.381256</td>\n",
       "      <td>-0.976145</td>\n",
       "      <td>0.693152</td>\n",
       "      <td>0.448959</td>\n",
       "      <td>0.891753</td>\n",
       "      <td>-0.677328</td>\n",
       "      <td>2.033060</td>\n",
       "      <td>1.533041</td>\n",
       "      <td>3.046260</td>\n",
       "      <td>-1.005285</td>\n",
       "      <td>0.569386</td>\n",
       "      <td>1.015211</td>\n",
       "      <td>1.582217</td>\n",
       "      <td>1.551914</td>\n",
       "      <td>0.761215</td>\n",
       "      <td>1.715464</td>\n",
       "      <td>1.492257</td>\n",
       "      <td>0.090719</td>\n",
       "    </tr>\n",
       "    <tr>\n",
       "      <th>4</th>\n",
       "      <td>1.309996</td>\n",
       "      <td>-0.690089</td>\n",
       "      <td>-0.676259</td>\n",
       "      <td>1.589283</td>\n",
       "      <td>-0.693326</td>\n",
       "      <td>0.622907</td>\n",
       "      <td>1.087562</td>\n",
       "      <td>-0.381742</td>\n",
       "      <td>0.589204</td>\n",
       "      <td>1.365479</td>\n",
       "      <td>1.179295</td>\n",
       "      <td>0.968218</td>\n",
       "      <td>0.728563</td>\n",
       "      <td>0.000000</td>\n",
       "      <td>1.083158</td>\n",
       "      <td>0.043429</td>\n",
       "      <td>1.154854</td>\n",
       "      <td>0.094859</td>\n",
       "    </tr>\n",
       "  </tbody>\n",
       "</table>\n",
       "</div>"
      ],
      "text/plain": [
       "   lepton 1 pT  lepton 1 eta  lepton 1 phi  ...  M_Delta_R  dPhi_r_b  cos(theta_r1)\n",
       "0     0.972861      0.653855      1.176225  ...   0.994464  1.367815       0.040714\n",
       "1     1.667973      0.064191     -1.225171  ...   0.205356  1.321893       0.377584\n",
       "2     0.444840     -0.134298     -0.709972  ...   1.562374  1.135454       0.180910\n",
       "3     0.381256     -0.976145      0.693152  ...   1.715464  1.492257       0.090719\n",
       "4     1.309996     -0.690089     -0.676259  ...   0.043429  1.154854       0.094859\n",
       "\n",
       "[5 rows x 18 columns]"
      ]
     },
     "execution_count": 9,
     "metadata": {},
     "output_type": "execute_result"
    }
   ],
   "source": [
    "# Features \n",
    "X_susy_all = susy_data.drop('class', axis=1) \n",
    "\n",
    "# Target\n",
    "y_susy = susy_data['class']\n",
    "\n",
    "X_susy_all.head()"
   ]
  },
  {
   "cell_type": "markdown",
   "metadata": {
    "id": "YDUDyDEGdK8e"
   },
   "source": [
    "Se crean las siguientes funciones:"
   ]
  },
  {
   "cell_type": "code",
   "execution_count": null,
   "metadata": {
    "id": "C2R2poNBltgi"
   },
   "outputs": [],
   "source": [
    "def heatmap_confusion_matrix(y_test, y_pred, labels):\n",
    "    \n",
    "    '''Creates the confusion matrix and the classification report'''\n",
    "    \n",
    "    confusion = confusion_matrix(y_test, y_pred)\n",
    " \n",
    "    sns.heatmap(confusion.T, square=True, annot=True, fmt='d', cbar=False, cmap=\"Blues\",\n",
    "            xticklabels=labels, yticklabels=labels)\n",
    "    plt.xlabel('True label')\n",
    "    plt.ylabel('Predicted label')\n",
    "    plt.show()\n",
    "    \n",
    "    print(classification_report(y_test, y_pred, target_names=labels))\n",
    "    \n",
    "    return confusion"
   ]
  },
  {
   "cell_type": "code",
   "execution_count": null,
   "metadata": {
    "id": "pu8wPdgmRlv_"
   },
   "outputs": [],
   "source": [
    "def modelGridSearch(model, params, X_train, X_test, y_train, y_test, name):\n",
    "\n",
    "  ''' Does the GridsearchCV for a given model,\n",
    "  creates the ROC Curve and calculates the scores '''\n",
    "\n",
    "  # -------- Grid Search --------\n",
    "  classification =  GridSearchCV(model, params, scoring=\"r2\",verbose=0)\n",
    "  classification.fit(X_train, y_train)\n",
    "\n",
    "  # Best parameters of the Grid Search\n",
    "  print('Best parameters: ',classification.best_params_)\n",
    "\n",
    "\n",
    "  # -------- Predictions --------\n",
    "  y_pred = classification.predict(X_test)\n",
    "\n",
    "  # Predict probabilities (to make the ROC Curve)\n",
    "  y_probs = classification.predict_proba(X_test)\n",
    "\n",
    "  # keep probabilities for the positive outcome only\n",
    "  y_probs = y_probs[:, 1]\n",
    "\n",
    "  # -------- calculate scores --------\n",
    "  auc = roc_auc_score(y_test, y_probs)\n",
    "\n",
    "\n",
    "  # -------- ROC curve --------\n",
    "  r = random.random()\n",
    "  b = random.random()\n",
    "  g = random.random()\n",
    "    \n",
    "  color = (r, 0.5, b)\n",
    "\n",
    "  # False positives and true positives rate\n",
    "  fpr, tpr, _ = roc_curve(y_test, y_probs)\n",
    "  plt.plot(fpr, tpr, marker='.', label=name, color=color, alpha=0.5)\n",
    "  plt.xlabel('False Positive Rate')\n",
    "  plt.ylabel('True Positive Rate')\n",
    "  plt.legend()\n",
    "    \n",
    "  return y_probs, y_pred, auc, classification.best_estimator_, \n"
   ]
  },
  {
   "cell_type": "code",
   "execution_count": null,
   "metadata": {
    "id": "G7Q9Ebng4hXm"
   },
   "outputs": [],
   "source": [
    "def datasets(data, X, y):\n",
    "\n",
    "  '''Selects the columns of the dataset and \n",
    "  divides the data into train and test'''\n",
    "\n",
    "  # -------- Choose the dataset --------\n",
    "  if data == 'LOW':\n",
    "     X = X.iloc[:,0:8]\n",
    "  if data == 'HIGH':\n",
    "     X = X.iloc[:,8:19]\n",
    "\n",
    "  # -------- Splits in train and test --------\n",
    "  X_train, X_test, y_train, y_test = train_test_split(X, y, test_size=0.3, random_state=42)\n",
    "\n",
    "  return X_train, X_test, y_train, y_test\n",
    "  "
   ]
  },
  {
   "cell_type": "code",
   "execution_count": null,
   "metadata": {
    "id": "Y3IqD7VYVSMx"
   },
   "outputs": [],
   "source": [
    "def modelClassification(data, X, y):\n",
    "\n",
    "  '''Applies 3 different classification algorithms'''\n",
    "\n",
    "  X_train, X_test, y_train, y_test = datasets(data, X, y)\n",
    "\n",
    "  # -------- Models Parameters  --------\n",
    "  logistic_params = [{'C': [0.001, 0.01, 0.1, 1.0]}]\n",
    "  tree_param = {'criterion':['gini','entropy'],\n",
    "                'max_depth':[3, 6,9]}\n",
    "  sgd_params = {\n",
    "    \"loss\" : [\"log\"],\n",
    "    \"alpha\" : [0.0001, 0.001, 0.01, 0.1],\n",
    "    \"penalty\" : [\"l2\", \"l1\"],\n",
    "    }\n",
    "\n",
    "  # -------- Classification Modeles  --------\n",
    "  plt.figure(figsize=(8,5))\n",
    "\n",
    "  y_prob_log, y_pred_log, auc_log, estimator_log = modelGridSearch(LogisticRegression(),\n",
    "                                                       logistic_params,\n",
    "                                                       X_train, X_test, y_train, y_test,\n",
    "                                                       'logistic')\n",
    "  \n",
    "\n",
    "  y_prob_tree, y_pred_tree, auc_tree, estimator_tree = modelGridSearch(DecisionTreeClassifier(), \n",
    "                                                          tree_param,\n",
    "                                                          X_train, X_test, y_train, y_test,\n",
    "                                                          'tree')\n",
    "  \n",
    "  y_prob_svc, y_pred_svc, auc_svc, estimator_svc =  modelGridSearch(SGDClassifier(), \n",
    "                                                                    sgd_params,\n",
    "                                                                    X_train, X_test, y_train, y_test,\n",
    "                                                                    'SVC')\n",
    "  \n",
    "  plt.show()\n",
    "\n",
    "  # Areas under the ROC curves\n",
    "  auc = np.array([[auc_log, auc_tree, auc_svc], \n",
    "                  [estimator_log, estimator_tree, estimator_svc], \n",
    "                  [y_prob_log, y_prob_tree, y_prob_svc]])\n",
    "\n",
    "  # -------- Confusion Matrix --------\n",
    "  print('------------- LOGISTIC REGRESSION ------------- \\n')\n",
    "  heatmap_confusion_matrix(y_test, y_pred_log, [\"NO SUSY\", \"SUSY\"])\n",
    "  print('ROC AUC=%.3f' % (auc[0,0]))\n",
    "\n",
    "\n",
    "  print('\\n ------------- DECISION TREE ------------- \\n')\n",
    "  heatmap_confusion_matrix(y_test, y_pred_tree, [\"NO SUSY\", \"SUSY\"])\n",
    "  print('ROC AUC=%.3f' % (auc[0,1]))\n",
    "  \n",
    "  print('\\n ------------- LINEAR SVC ------------- \\n')\n",
    "  heatmap_confusion_matrix(y_test, y_pred_svc, [\"NO SUSY\", \"SUSY\"])\n",
    "  print('ROC AUC=%.3f' % (auc[0,2]))\n",
    "  \n",
    "\n",
    "\n",
    "  # Max value of auc and its estimator \n",
    "  return np.max(auc[0]), auc[1,np.argmax(auc[0])], auc[2,np.argmax(auc[0])], y_test\n",
    "  "
   ]
  },
  {
   "cell_type": "markdown",
   "metadata": {
    "id": "xReRgncF3NMz"
   },
   "source": [
    "### **Características de bajo nivel:** \n",
    "Propiedades cinemáticas de las colisiones medidas por los detectores en el acelerador.\n"
   ]
  },
  {
   "cell_type": "code",
   "execution_count": null,
   "metadata": {
    "colab": {
     "base_uri": "https://localhost:8080/",
     "height": 1000
    },
    "id": "qIM4vif78ynU",
    "outputId": "93672284-31bb-467b-c69c-38035b4ebfe9"
   },
   "outputs": [
    {
     "name": "stdout",
     "output_type": "stream",
     "text": [
      "Best parameters:  {'C': 0.1}\n",
      "Best parameters:  {'criterion': 'gini', 'max_depth': 9}\n",
      "Best parameters:  {'alpha': 0.0001, 'loss': 'log', 'penalty': 'l1'}\n"
     ]
    },
    {
     "data": {
      "image/png": "[encoded data removed]",
      "text/plain": [
       "<Figure size 576x360 with 1 Axes>"
      ]
     },
     "metadata": {
      "needs_background": "light"
     },
     "output_type": "display_data"
    },
    {
     "name": "stderr",
     "output_type": "stream",
     "text": [
      "/usr/local/lib/python3.7/dist-packages/ipykernel_launcher.py:41: VisibleDeprecationWarning: Creating an ndarray from ragged nested sequences (which is a list-or-tuple of lists-or-tuples-or ndarrays with different lengths or shapes) is deprecated. If you meant to do this, you must specify 'dtype=object' when creating the ndarray\n"
     ]
    },
    {
     "name": "stdout",
     "output_type": "stream",
     "text": [
      "------------- LOGISTIC REGRESSION ------------- \n",
      "\n"
     ]
    },
    {
     "data": {
      "image/png": "[encoded data removed]",
      "text/plain": [
       "<Figure size 432x288 with 1 Axes>"
      ]
     },
     "metadata": {
      "needs_background": "light"
     },
     "output_type": "display_data"
    },
    {
     "name": "stdout",
     "output_type": "stream",
     "text": [
      "              precision    recall  f1-score   support\n",
      "\n",
      "     NO SUSY       0.75      0.87      0.80    813277\n",
      "        SUSY       0.81      0.65      0.72    686723\n",
      "\n",
      "    accuracy                           0.77   1500000\n",
      "   macro avg       0.78      0.76      0.76   1500000\n",
      "weighted avg       0.77      0.77      0.76   1500000\n",
      "\n",
      "ROC AUC=0.831\n",
      "\n",
      " ------------- DECISION TREE ------------- \n",
      "\n"
     ]
    },
    {
     "data": {
      "image/png": "[encoded data removed]",
      "text/plain": [
       "<Figure size 432x288 with 1 Axes>"
      ]
     },
     "metadata": {
      "needs_background": "light"
     },
     "output_type": "display_data"
    },
    {
     "name": "stdout",
     "output_type": "stream",
     "text": [
      "              precision    recall  f1-score   support\n",
      "\n",
      "     NO SUSY       0.76      0.86      0.81    813277\n",
      "        SUSY       0.80      0.69      0.74    686723\n",
      "\n",
      "    accuracy                           0.78   1500000\n",
      "   macro avg       0.78      0.77      0.77   1500000\n",
      "weighted avg       0.78      0.78      0.78   1500000\n",
      "\n",
      "ROC AUC=0.850\n",
      "\n",
      " ------------- LINEAR SVC ------------- \n",
      "\n"
     ]
    },
    {
     "data": {
      "image/png": "[encoded data removed]",
      "text/plain": [
       "<Figure size 432x288 with 1 Axes>"
      ]
     },
     "metadata": {
      "needs_background": "light"
     },
     "output_type": "display_data"
    },
    {
     "name": "stdout",
     "output_type": "stream",
     "text": [
      "              precision    recall  f1-score   support\n",
      "\n",
      "     NO SUSY       0.74      0.88      0.80    813277\n",
      "        SUSY       0.81      0.64      0.71    686723\n",
      "\n",
      "    accuracy                           0.77   1500000\n",
      "   macro avg       0.78      0.76      0.76   1500000\n",
      "weighted avg       0.77      0.77      0.76   1500000\n",
      "\n",
      "ROC AUC=0.831\n"
     ]
    }
   ],
   "source": [
    "auc_low, estimator_low, y_prob_low, y_test_low = modelClassification('LOW', X_susy_all, y_susy)\n"
   ]
  },
  {
   "cell_type": "code",
   "execution_count": null,
   "metadata": {
    "colab": {
     "base_uri": "https://localhost:8080/"
    },
    "id": "RvjMtWVfJGjr",
    "outputId": "3e4a85ff-475b-477c-a6d3-1b406f5c1f27"
   },
   "outputs": [
    {
     "name": "stdout",
     "output_type": "stream",
     "text": [
      "El área bajo la curva más grande es de 0.850 y corresponde al modelo: DecisionTreeClassifier(ccp_alpha=0.0, class_weight=None, criterion='gini',\n",
      "                       max_depth=9, max_features=None, max_leaf_nodes=None,\n",
      "                       min_impurity_decrease=0.0, min_impurity_split=None,\n",
      "                       min_samples_leaf=1, min_samples_split=2,\n",
      "                       min_weight_fraction_leaf=0.0, presort='deprecated',\n",
      "                       random_state=None, splitter='best')\n"
     ]
    }
   ],
   "source": [
    "print('El área bajo la curva más grande es de %.3f y corresponde al modelo:' % (auc_low), estimator_low)"
   ]
  },
  {
   "cell_type": "markdown",
   "metadata": {
    "id": "_LclHVFV3Oja"
   },
   "source": [
    "### **Características de alto nivel:** \n",
    "Son derivadas por los científicos para ayudar a la discriminación de las dos clases."
   ]
  },
  {
   "cell_type": "code",
   "execution_count": null,
   "metadata": {
    "colab": {
     "base_uri": "https://localhost:8080/",
     "height": 1000
    },
    "id": "o8AARXQ0BwtV",
    "outputId": "677c610c-cc4f-4607-e2d1-1a69b93ca623"
   },
   "outputs": [
    {
     "name": "stdout",
     "output_type": "stream",
     "text": [
      "Best parameters:  {'C': 1.0}\n",
      "Best parameters:  {'criterion': 'gini', 'max_depth': 9}\n",
      "Best parameters:  {'alpha': 0.0001, 'loss': 'log', 'penalty': 'l2'}\n"
     ]
    },
    {
     "data": {
      "image/png": "[encoded data removed]",
      "text/plain": [
       "<Figure size 576x360 with 1 Axes>"
      ]
     },
     "metadata": {
      "needs_background": "light"
     },
     "output_type": "display_data"
    },
    {
     "name": "stderr",
     "output_type": "stream",
     "text": [
      "/usr/local/lib/python3.7/dist-packages/ipykernel_launcher.py:41: VisibleDeprecationWarning: Creating an ndarray from ragged nested sequences (which is a list-or-tuple of lists-or-tuples-or ndarrays with different lengths or shapes) is deprecated. If you meant to do this, you must specify 'dtype=object' when creating the ndarray\n"
     ]
    },
    {
     "name": "stdout",
     "output_type": "stream",
     "text": [
      "------------- LOGISTIC REGRESSION ------------- \n",
      "\n"
     ]
    },
    {
     "data": {
      "image/png": "[encoded data removed]",
      "text/plain": [
       "<Figure size 432x288 with 1 Axes>"
      ]
     },
     "metadata": {
      "needs_background": "light"
     },
     "output_type": "display_data"
    },
    {
     "name": "stdout",
     "output_type": "stream",
     "text": [
      "              precision    recall  f1-score   support\n",
      "\n",
      "     NO SUSY       0.75      0.87      0.80    813277\n",
      "        SUSY       0.81      0.65      0.72    686723\n",
      "\n",
      "    accuracy                           0.77   1500000\n",
      "   macro avg       0.78      0.76      0.76   1500000\n",
      "weighted avg       0.78      0.77      0.77   1500000\n",
      "\n",
      "ROC AUC=0.833\n",
      "\n",
      " ------------- DECISION TREE ------------- \n",
      "\n"
     ]
    },
    {
     "data": {
      "image/png": "[encoded data removed]",
      "text/plain": [
       "<Figure size 432x288 with 1 Axes>"
      ]
     },
     "metadata": {
      "needs_background": "light"
     },
     "output_type": "display_data"
    },
    {
     "name": "stdout",
     "output_type": "stream",
     "text": [
      "              precision    recall  f1-score   support\n",
      "\n",
      "     NO SUSY       0.76      0.86      0.81    813277\n",
      "        SUSY       0.81      0.68      0.74    686723\n",
      "\n",
      "    accuracy                           0.78   1500000\n",
      "   macro avg       0.79      0.77      0.78   1500000\n",
      "weighted avg       0.78      0.78      0.78   1500000\n",
      "\n",
      "ROC AUC=0.846\n",
      "\n",
      " ------------- LINEAR SVC ------------- \n",
      "\n"
     ]
    },
    {
     "data": {
      "image/png": "[encoded data removed]",
      "text/plain": [
       "<Figure size 432x288 with 1 Axes>"
      ]
     },
     "metadata": {
      "needs_background": "light"
     },
     "output_type": "display_data"
    },
    {
     "name": "stdout",
     "output_type": "stream",
     "text": [
      "              precision    recall  f1-score   support\n",
      "\n",
      "     NO SUSY       0.75      0.86      0.80    813277\n",
      "        SUSY       0.80      0.66      0.72    686723\n",
      "\n",
      "    accuracy                           0.77   1500000\n",
      "   macro avg       0.78      0.76      0.76   1500000\n",
      "weighted avg       0.77      0.77      0.77   1500000\n",
      "\n",
      "ROC AUC=0.833\n"
     ]
    }
   ],
   "source": [
    "auc_high, estimator_high, y_prob_high, y_test_high = modelClassification('HIGH', X_susy_all, y_susy)"
   ]
  },
  {
   "cell_type": "code",
   "execution_count": null,
   "metadata": {
    "colab": {
     "base_uri": "https://localhost:8080/"
    },
    "id": "3xF_2bRrKVzj",
    "outputId": "3b957e04-6bc7-4119-9bbd-96c72122e7cf"
   },
   "outputs": [
    {
     "name": "stdout",
     "output_type": "stream",
     "text": [
      "El área bajo la curva más grande es de 0.846 y corresponde al modelo: DecisionTreeClassifier(ccp_alpha=0.0, class_weight=None, criterion='gini',\n",
      "                       max_depth=9, max_features=None, max_leaf_nodes=None,\n",
      "                       min_impurity_decrease=0.0, min_impurity_split=None,\n",
      "                       min_samples_leaf=1, min_samples_split=2,\n",
      "                       min_weight_fraction_leaf=0.0, presort='deprecated',\n",
      "                       random_state=None, splitter='best')\n"
     ]
    }
   ],
   "source": [
    "print('El área bajo la curva más grande es de %.3f y corresponde al modelo:' % (auc_high), estimator_high)"
   ]
  },
  {
   "cell_type": "markdown",
   "metadata": {
    "id": "pPba8zgzKWaD"
   },
   "source": [
    "### **High + Low Level**\n",
    "Ahora, combinando características de bajo y alto nivel:"
   ]
  },
  {
   "cell_type": "code",
   "execution_count": null,
   "metadata": {
    "colab": {
     "base_uri": "https://localhost:8080/",
     "height": 1000
    },
    "id": "-AOjbEhCKxJ2",
    "outputId": "a82c665a-7589-4b5f-cc7f-64387eaccf0c"
   },
   "outputs": [
    {
     "name": "stderr",
     "output_type": "stream",
     "text": [
      "/usr/local/lib/python3.7/dist-packages/sklearn/linear_model/_logistic.py:940: ConvergenceWarning: lbfgs failed to converge (status=1):\n",
      "STOP: TOTAL NO. of ITERATIONS REACHED LIMIT.\n",
      "\n",
      "Increase the number of iterations (max_iter) or scale the data as shown in:\n",
      "    https://scikit-learn.org/stable/modules/preprocessing.html\n",
      "Please also refer to the documentation for alternative solver options:\n",
      "    https://scikit-learn.org/stable/modules/linear_model.html#logistic-regression\n",
      "  extra_warning_msg=_LOGISTIC_SOLVER_CONVERGENCE_MSG)\n",
      "/usr/local/lib/python3.7/dist-packages/sklearn/linear_model/_logistic.py:940: ConvergenceWarning: lbfgs failed to converge (status=1):\n",
      "STOP: TOTAL NO. of ITERATIONS REACHED LIMIT.\n",
      "\n",
      "Increase the number of iterations (max_iter) or scale the data as shown in:\n",
      "    https://scikit-learn.org/stable/modules/preprocessing.html\n",
      "Please also refer to the documentation for alternative solver options:\n",
      "    https://scikit-learn.org/stable/modules/linear_model.html#logistic-regression\n",
      "  extra_warning_msg=_LOGISTIC_SOLVER_CONVERGENCE_MSG)\n",
      "/usr/local/lib/python3.7/dist-packages/sklearn/linear_model/_logistic.py:940: ConvergenceWarning: lbfgs failed to converge (status=1):\n",
      "STOP: TOTAL NO. of ITERATIONS REACHED LIMIT.\n",
      "\n",
      "Increase the number of iterations (max_iter) or scale the data as shown in:\n",
      "    https://scikit-learn.org/stable/modules/preprocessing.html\n",
      "Please also refer to the documentation for alternative solver options:\n",
      "    https://scikit-learn.org/stable/modules/linear_model.html#logistic-regression\n",
      "  extra_warning_msg=_LOGISTIC_SOLVER_CONVERGENCE_MSG)\n",
      "/usr/local/lib/python3.7/dist-packages/sklearn/linear_model/_logistic.py:940: ConvergenceWarning: lbfgs failed to converge (status=1):\n",
      "STOP: TOTAL NO. of ITERATIONS REACHED LIMIT.\n",
      "\n",
      "Increase the number of iterations (max_iter) or scale the data as shown in:\n",
      "    https://scikit-learn.org/stable/modules/preprocessing.html\n",
      "Please also refer to the documentation for alternative solver options:\n",
      "    https://scikit-learn.org/stable/modules/linear_model.html#logistic-regression\n",
      "  extra_warning_msg=_LOGISTIC_SOLVER_CONVERGENCE_MSG)\n",
      "/usr/local/lib/python3.7/dist-packages/sklearn/linear_model/_logistic.py:940: ConvergenceWarning: lbfgs failed to converge (status=1):\n",
      "STOP: TOTAL NO. of ITERATIONS REACHED LIMIT.\n",
      "\n",
      "Increase the number of iterations (max_iter) or scale the data as shown in:\n",
      "    https://scikit-learn.org/stable/modules/preprocessing.html\n",
      "Please also refer to the documentation for alternative solver options:\n",
      "    https://scikit-learn.org/stable/modules/linear_model.html#logistic-regression\n",
      "  extra_warning_msg=_LOGISTIC_SOLVER_CONVERGENCE_MSG)\n",
      "/usr/local/lib/python3.7/dist-packages/sklearn/linear_model/_logistic.py:940: ConvergenceWarning: lbfgs failed to converge (status=1):\n",
      "STOP: TOTAL NO. of ITERATIONS REACHED LIMIT.\n",
      "\n",
      "Increase the number of iterations (max_iter) or scale the data as shown in:\n",
      "    https://scikit-learn.org/stable/modules/preprocessing.html\n",
      "Please also refer to the documentation for alternative solver options:\n",
      "    https://scikit-learn.org/stable/modules/linear_model.html#logistic-regression\n",
      "  extra_warning_msg=_LOGISTIC_SOLVER_CONVERGENCE_MSG)\n",
      "/usr/local/lib/python3.7/dist-packages/sklearn/linear_model/_logistic.py:940: ConvergenceWarning: lbfgs failed to converge (status=1):\n",
      "STOP: TOTAL NO. of ITERATIONS REACHED LIMIT.\n",
      "\n",
      "Increase the number of iterations (max_iter) or scale the data as shown in:\n",
      "    https://scikit-learn.org/stable/modules/preprocessing.html\n",
      "Please also refer to the documentation for alternative solver options:\n",
      "    https://scikit-learn.org/stable/modules/linear_model.html#logistic-regression\n",
      "  extra_warning_msg=_LOGISTIC_SOLVER_CONVERGENCE_MSG)\n",
      "/usr/local/lib/python3.7/dist-packages/sklearn/linear_model/_logistic.py:940: ConvergenceWarning: lbfgs failed to converge (status=1):\n",
      "STOP: TOTAL NO. of ITERATIONS REACHED LIMIT.\n",
      "\n",
      "Increase the number of iterations (max_iter) or scale the data as shown in:\n",
      "    https://scikit-learn.org/stable/modules/preprocessing.html\n",
      "Please also refer to the documentation for alternative solver options:\n",
      "    https://scikit-learn.org/stable/modules/linear_model.html#logistic-regression\n",
      "  extra_warning_msg=_LOGISTIC_SOLVER_CONVERGENCE_MSG)\n",
      "/usr/local/lib/python3.7/dist-packages/sklearn/linear_model/_logistic.py:940: ConvergenceWarning: lbfgs failed to converge (status=1):\n",
      "STOP: TOTAL NO. of ITERATIONS REACHED LIMIT.\n",
      "\n",
      "Increase the number of iterations (max_iter) or scale the data as shown in:\n",
      "    https://scikit-learn.org/stable/modules/preprocessing.html\n",
      "Please also refer to the documentation for alternative solver options:\n",
      "    https://scikit-learn.org/stable/modules/linear_model.html#logistic-regression\n",
      "  extra_warning_msg=_LOGISTIC_SOLVER_CONVERGENCE_MSG)\n",
      "/usr/local/lib/python3.7/dist-packages/sklearn/linear_model/_logistic.py:940: ConvergenceWarning: lbfgs failed to converge (status=1):\n",
      "STOP: TOTAL NO. of ITERATIONS REACHED LIMIT.\n",
      "\n",
      "Increase the number of iterations (max_iter) or scale the data as shown in:\n",
      "    https://scikit-learn.org/stable/modules/preprocessing.html\n",
      "Please also refer to the documentation for alternative solver options:\n",
      "    https://scikit-learn.org/stable/modules/linear_model.html#logistic-regression\n",
      "  extra_warning_msg=_LOGISTIC_SOLVER_CONVERGENCE_MSG)\n",
      "/usr/local/lib/python3.7/dist-packages/sklearn/linear_model/_logistic.py:940: ConvergenceWarning: lbfgs failed to converge (status=1):\n",
      "STOP: TOTAL NO. of ITERATIONS REACHED LIMIT.\n",
      "\n",
      "Increase the number of iterations (max_iter) or scale the data as shown in:\n",
      "    https://scikit-learn.org/stable/modules/preprocessing.html\n",
      "Please also refer to the documentation for alternative solver options:\n",
      "    https://scikit-learn.org/stable/modules/linear_model.html#logistic-regression\n",
      "  extra_warning_msg=_LOGISTIC_SOLVER_CONVERGENCE_MSG)\n",
      "/usr/local/lib/python3.7/dist-packages/sklearn/linear_model/_logistic.py:940: ConvergenceWarning: lbfgs failed to converge (status=1):\n",
      "STOP: TOTAL NO. of ITERATIONS REACHED LIMIT.\n",
      "\n",
      "Increase the number of iterations (max_iter) or scale the data as shown in:\n",
      "    https://scikit-learn.org/stable/modules/preprocessing.html\n",
      "Please also refer to the documentation for alternative solver options:\n",
      "    https://scikit-learn.org/stable/modules/linear_model.html#logistic-regression\n",
      "  extra_warning_msg=_LOGISTIC_SOLVER_CONVERGENCE_MSG)\n",
      "/usr/local/lib/python3.7/dist-packages/sklearn/linear_model/_logistic.py:940: ConvergenceWarning: lbfgs failed to converge (status=1):\n",
      "STOP: TOTAL NO. of ITERATIONS REACHED LIMIT.\n",
      "\n",
      "Increase the number of iterations (max_iter) or scale the data as shown in:\n",
      "    https://scikit-learn.org/stable/modules/preprocessing.html\n",
      "Please also refer to the documentation for alternative solver options:\n",
      "    https://scikit-learn.org/stable/modules/linear_model.html#logistic-regression\n",
      "  extra_warning_msg=_LOGISTIC_SOLVER_CONVERGENCE_MSG)\n",
      "/usr/local/lib/python3.7/dist-packages/sklearn/linear_model/_logistic.py:940: ConvergenceWarning: lbfgs failed to converge (status=1):\n",
      "STOP: TOTAL NO. of ITERATIONS REACHED LIMIT.\n",
      "\n",
      "Increase the number of iterations (max_iter) or scale the data as shown in:\n",
      "    https://scikit-learn.org/stable/modules/preprocessing.html\n",
      "Please also refer to the documentation for alternative solver options:\n",
      "    https://scikit-learn.org/stable/modules/linear_model.html#logistic-regression\n",
      "  extra_warning_msg=_LOGISTIC_SOLVER_CONVERGENCE_MSG)\n",
      "/usr/local/lib/python3.7/dist-packages/sklearn/linear_model/_logistic.py:940: ConvergenceWarning: lbfgs failed to converge (status=1):\n",
      "STOP: TOTAL NO. of ITERATIONS REACHED LIMIT.\n",
      "\n",
      "Increase the number of iterations (max_iter) or scale the data as shown in:\n",
      "    https://scikit-learn.org/stable/modules/preprocessing.html\n",
      "Please also refer to the documentation for alternative solver options:\n",
      "    https://scikit-learn.org/stable/modules/linear_model.html#logistic-regression\n",
      "  extra_warning_msg=_LOGISTIC_SOLVER_CONVERGENCE_MSG)\n"
     ]
    },
    {
     "name": "stdout",
     "output_type": "stream",
     "text": [
      "Best parameters:  {'C': 0.001}\n",
      "Best parameters:  {'criterion': 'gini', 'max_depth': 9}\n",
      "Best parameters:  {'alpha': 0.0001, 'loss': 'log', 'penalty': 'l2'}\n"
     ]
    },
    {
     "data": {
      "image/png": "[encoded data removed]",
      "text/plain": [
       "<Figure size 576x360 with 1 Axes>"
      ]
     },
     "metadata": {
      "needs_background": "light"
     },
     "output_type": "display_data"
    },
    {
     "name": "stderr",
     "output_type": "stream",
     "text": [
      "/usr/local/lib/python3.7/dist-packages/ipykernel_launcher.py:41: VisibleDeprecationWarning: Creating an ndarray from ragged nested sequences (which is a list-or-tuple of lists-or-tuples-or ndarrays with different lengths or shapes) is deprecated. If you meant to do this, you must specify 'dtype=object' when creating the ndarray\n"
     ]
    },
    {
     "name": "stdout",
     "output_type": "stream",
     "text": [
      "------------- LOGISTIC REGRESSION ------------- \n",
      "\n"
     ]
    },
    {
     "data": {
      "image/png": "[encoded data removed]",
      "text/plain": [
       "<Figure size 432x288 with 1 Axes>"
      ]
     },
     "metadata": {
      "needs_background": "light"
     },
     "output_type": "display_data"
    },
    {
     "name": "stdout",
     "output_type": "stream",
     "text": [
      "              precision    recall  f1-score   support\n",
      "\n",
      "     NO SUSY       0.76      0.89      0.82    813277\n",
      "        SUSY       0.83      0.67      0.74    686723\n",
      "\n",
      "    accuracy                           0.79   1500000\n",
      "   macro avg       0.80      0.78      0.78   1500000\n",
      "weighted avg       0.79      0.79      0.78   1500000\n",
      "\n",
      "ROC AUC=0.857\n",
      "\n",
      " ------------- DECISION TREE ------------- \n",
      "\n"
     ]
    },
    {
     "data": {
      "image/png": "[encoded data removed]",
      "text/plain": [
       "<Figure size 432x288 with 1 Axes>"
      ]
     },
     "metadata": {
      "needs_background": "light"
     },
     "output_type": "display_data"
    },
    {
     "name": "stdout",
     "output_type": "stream",
     "text": [
      "              precision    recall  f1-score   support\n",
      "\n",
      "     NO SUSY       0.77      0.87      0.82    813277\n",
      "        SUSY       0.82      0.69      0.75    686723\n",
      "\n",
      "    accuracy                           0.79   1500000\n",
      "   macro avg       0.79      0.78      0.78   1500000\n",
      "weighted avg       0.79      0.79      0.79   1500000\n",
      "\n",
      "ROC AUC=0.858\n",
      "\n",
      " ------------- LINEAR SVC ------------- \n",
      "\n"
     ]
    },
    {
     "data": {
      "image/png": "[encoded data removed]",
      "text/plain": [
       "<Figure size 432x288 with 1 Axes>"
      ]
     },
     "metadata": {
      "needs_background": "light"
     },
     "output_type": "display_data"
    },
    {
     "name": "stdout",
     "output_type": "stream",
     "text": [
      "              precision    recall  f1-score   support\n",
      "\n",
      "     NO SUSY       0.77      0.88      0.82    813277\n",
      "        SUSY       0.83      0.68      0.75    686723\n",
      "\n",
      "    accuracy                           0.79   1500000\n",
      "   macro avg       0.80      0.78      0.78   1500000\n",
      "weighted avg       0.79      0.79      0.79   1500000\n",
      "\n",
      "ROC AUC=0.857\n"
     ]
    }
   ],
   "source": [
    "auc_all, estimator_all, y_prob_all, y_test_all= modelClassification('ALL', X_susy_all, y_susy)"
   ]
  },
  {
   "cell_type": "code",
   "execution_count": null,
   "metadata": {
    "colab": {
     "base_uri": "https://localhost:8080/"
    },
    "id": "UNnFD_KnayO5",
    "outputId": "4d767bbc-ee22-410a-93c4-65c779ebc47c"
   },
   "outputs": [
    {
     "name": "stdout",
     "output_type": "stream",
     "text": [
      "El área bajo la curva más grande es de 0.858 y corresponde al modelo: DecisionTreeClassifier(ccp_alpha=0.0, class_weight=None, criterion='gini',\n",
      "                       max_depth=9, max_features=None, max_leaf_nodes=None,\n",
      "                       min_impurity_decrease=0.0, min_impurity_split=None,\n",
      "                       min_samples_leaf=1, min_samples_split=2,\n",
      "                       min_weight_fraction_leaf=0.0, presort='deprecated',\n",
      "                       random_state=None, splitter='best')\n"
     ]
    }
   ],
   "source": [
    "  print('El área bajo la curva más grande es de %.3f y corresponde al modelo:' % (auc_all), estimator_all)"
   ]
  },
  {
   "cell_type": "markdown",
   "metadata": {
    "id": "_CYiAB_gdVZu"
   },
   "source": [
    "### **Mejores modelos y curva ROC final**"
   ]
  },
  {
   "cell_type": "code",
   "execution_count": null,
   "metadata": {
    "id": "Wn3fNusFX1IR"
   },
   "outputs": [],
   "source": [
    "def bestModels(y_test, y_prob, name):\n",
    "\n",
    "  # -------- ROC curve --------\n",
    "  r = random.random()\n",
    "  b = random.random()\n",
    "  g = random.random()\n",
    "  color = (r, 0.3, b)\n",
    "\n",
    "  # False positives and true positives rate\n",
    "  fpr, tpr, _ = roc_curve(y_test, y_prob)\n",
    "  plt.plot(fpr, tpr, marker='.', label=name, color=color)\n",
    "  plt.xlabel('False Positive Rate')\n",
    "  plt.ylabel('True Positive Rate')\n",
    "  plt.legend()"
   ]
  },
  {
   "cell_type": "code",
   "execution_count": null,
   "metadata": {
    "colab": {
     "base_uri": "https://localhost:8080/",
     "height": 497
    },
    "id": "vbaBloDCNG2n",
    "outputId": "13095f28-ad68-43c3-950b-ae275b21c2ac"
   },
   "outputs": [
    {
     "data": {
      "image/png": "[encoded data removed]",
      "text/plain": [
       "<Figure size 864x576 with 1 Axes>"
      ]
     },
     "metadata": {
      "needs_background": "light"
     },
     "output_type": "display_data"
    }
   ],
   "source": [
    "plt.figure(figsize=(12,8))\n",
    "bestModels(y_test_low, y_prob_low, 'Low')\n",
    "bestModels(y_test_high, y_prob_high, 'high')\n",
    "bestModels(y_test_all, y_prob_all, 'all')\n",
    "plt.show()"
   ]
  },
  {
   "cell_type": "markdown",
   "metadata": {
    "id": "eUogqNVtLojI"
   },
   "source": [
    "Así como en el artículo \"Búsqueda de partículas exóticas en física de altas energías con aprendizaje profundo\", el mejor modelo es aquel que tenga un valor mayor de AUC (area under the receiver operating characteristic curve), que indica una mayor precisión de clasificación en una gama de opciones de umbral. \n",
    "\n",
    "\n",
    "Respecto a la Figura 7 del artículo (ver abajo): \"Rendimiento para el índice de referencia de Higgs\", el 'signal efficiency' se define como la fracción de los eventos deseados que realmente obtienen y está relacionado con los 'True Positives' de la figura anterior. Y el término ' background rejection' es la relación `señal/fondo`, es decir, que disminuye a medida que aumenta la tasa de falsos positivos, al contrario de la figura realizada. Sin embargo, la curva ROC es equivalente a la signal efficiency vs. background rejection e igualmente el dataset con mejores predicciones es el que combina las características de alto y bajo nivel."
   ]
  },
  {
   "cell_type": "markdown",
   "metadata": {},
   "source": [
    "<img src=\"figure_7.png\">"
   ]
  },
  {
   "cell_type": "code",
   "execution_count": null,
   "metadata": {
    "id": "5eUSNMscXzQi"
   },
   "outputs": [],
   "source": []
  }
 ],
 "metadata": {
  "colab": {
   "collapsed_sections": [],
   "name": "Taller_1_Daniela_Torres.ipynb",
   "provenance": [],
   "toc_visible": true
  },
  "kernelspec": {
   "display_name": "Python 3",
   "language": "python",
   "name": "python3"
  },
  "language_info": {
   "codemirror_mode": {
    "name": "ipython",
    "version": 3
   },
   "file_extension": ".py",
   "mimetype": "text/x-python",
   "name": "python",
   "nbconvert_exporter": "python",
   "pygments_lexer": "ipython3",
   "version": "3.7.6"
  }
 },
 "nbformat": 4,
 "nbformat_minor": 1
}
